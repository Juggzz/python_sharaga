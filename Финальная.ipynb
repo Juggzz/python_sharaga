{
 "cells": [
  {
   "cell_type": "code",
   "execution_count": 2,
   "metadata": {},
   "outputs": [],
   "source": [
    "def func_1(X):\n",
    "    Y = 1\n",
    "    i = 0\n",
    "    while i < len(X):\n",
    "        Y -= (X[i] - 0.1 * (i + 1))**2\n",
    "        i += 1\n",
    "    return float(Y)"
   ]
  },
  {
   "cell_type": "code",
   "execution_count": 3,
   "metadata": {},
   "outputs": [],
   "source": [
    "import math\n",
    "\n",
    "def func_2(X):\n",
    "    rad = 0\n",
    "    i = 0\n",
    "    while i < len(X):\n",
    "        rad += (X[i])**2\n",
    "        i += 1\n",
    "    Y = math.cos(rad)    \n",
    "    return float(Y)"
   ]
  },
  {
   "cell_type": "code",
   "execution_count": 4,
   "metadata": {},
   "outputs": [],
   "source": [
    "def func_3(X, max_min):\n",
    "    Y_UP = 0\n",
    "    Y_DOWN = 0\n",
    "    i = 0\n",
    "    while i < len(X):\n",
    "        Y_UP += (X[i])**2\n",
    "        Y_DOWN += X[i]\n",
    "        i += 1\n",
    "    Y_DOWN = Y_DOWN**2\n",
    "    \n",
    "    if Y_DOWN == 0 and max_min :\n",
    "        return float(\"-inf\")\n",
    "    if Y_DOWN == 0 and max_min == False :\n",
    "        return float(\"inf\")\n",
    "    \n",
    "    Y = Y_UP / Y_DOWN\n",
    "    return float(Y)"
   ]
  },
  {
   "cell_type": "code",
   "execution_count": 5,
   "metadata": {},
   "outputs": [],
   "source": [
    "def func_4(X, max_min):\n",
    "    \n",
    "    i = 0\n",
    "    if(func_3(X, max_min) == 0) and max_min:\n",
    "        return float(\"-inf\")\n",
    "    if(func_3(X, max_min) == 0) and max_min == False:\n",
    "        return float(\"inf\")\n",
    "    \n",
    "    Y = 1 - 1 / func_3(X, max_min)\n",
    "        \n",
    "    return float(Y)"
   ]
  },
  {
   "cell_type": "code",
   "execution_count": 5,
   "metadata": {},
   "outputs": [],
   "source": [
    "import math\n",
    "def func_5(X, max_min, s):\n",
    "    first_up_x = 0\n",
    "    second_up_x = s\n",
    "    down_x = 1\n",
    "    \n",
    "    for i in range(len(X)):\n",
    "        first_up_x += X[i]\n",
    "        second_up_x *= (math.sin(X[i]))**2\n",
    "        down_x += (X[i])**2\n",
    "        \n",
    "    first_up_x = first_up_x**2\n",
    "    res = (1 - first_up_x + second_up_x)/(down_x)\n",
    "    \n",
    "    if (down_x == 0) and max_min:\n",
    "        return float(\"-inf\")\n",
    "    if (down_x == 0) and not max_min:\n",
    "        return float(\"inf\")    \n",
    "    \n",
    "    return res"
   ]
  },
  {
   "cell_type": "code",
   "execution_count": 6,
   "metadata": {},
   "outputs": [],
   "source": [
    "def func(X, num, max_min, s = 0):\n",
    "    \n",
    "    if num == 1:\n",
    "        return func_1(X)\n",
    "    if num == 2:\n",
    "        return func_2(X)\n",
    "    if num == 3:\n",
    "        return func_3(X, max_min)\n",
    "    if num == 4:\n",
    "        return func_4(X, max_min)\n",
    "    if num == 5:\n",
    "        return func_5(X, max_min, s)"
   ]
  },
  {
   "cell_type": "code",
   "execution_count": 7,
   "metadata": {},
   "outputs": [],
   "source": [
    "import random \n",
    "def X_arr(M, minimum, maximum):\n",
    "    X = []\n",
    "    i = 0 \n",
    "    while i < M:\n",
    "        X.append(random.uniform(minimum[i], maximum[i]))\n",
    "        i += 1\n",
    "    return X"
   ]
  },
  {
   "cell_type": "code",
   "execution_count": 8,
   "metadata": {},
   "outputs": [],
   "source": [
    "def num_input():\n",
    "    print(\"Введите номер функции \")\n",
    "    num = int(input())\n",
    "    while (num <= 0) or (num > 5):\n",
    "        print(\"Неверный номер \")\n",
    "        num = int(input())\n",
    "    return num"
   ]
  },
  {
   "cell_type": "code",
   "execution_count": 9,
   "metadata": {},
   "outputs": [],
   "source": [
    "from itertools import product\n",
    "\n",
    "def comb(n, k):\n",
    "    \"\"\"Генерация сочетаний из `n` по `k` без повторений.\"\"\"\n",
    "\n",
    "    d = list(range(0, k))\n",
    "    yield d\n",
    "\n",
    "    while True:\n",
    "        i = k - 1\n",
    "        while i >= 0 and d[i] + k - i + 1 > n:\n",
    "            i -= 1\n",
    "        if i < 0:\n",
    "            return\n",
    "\n",
    "        d[i] += 1\n",
    "        for j in range(i + 1, k):\n",
    "            d[j] = d[j - 1] + 1\n",
    "\n",
    "        yield d\n",
    "\n",
    "def comb_sets(sets, m):\n",
    "    \"\"\"Генерация сочетаний из элементов множеств `sets` по `m` элементов.\"\"\"\n",
    "\n",
    "    for ci in comb(len(sets), m):\n",
    "        for cj in product(*(sets[i] for i in ci)):\n",
    "            yield cj\n",
    "            \n",
    "def neighbor_dots(X, e):\n",
    "    Range_of_dots =  range_of_dots(X, e)\n",
    "    Res = []    \n",
    "    for c in comb_sets(Range_of_dots, len(Range_of_dots)):\n",
    "        Res.append(list(c))\n",
    "    \n",
    "    return Res\n"
   ]
  },
  {
   "cell_type": "code",
   "execution_count": 10,
   "metadata": {},
   "outputs": [],
   "source": [
    "import numpy as np\n",
    "\n",
    "def range_of_dots(X, e):\n",
    "    res = []\n",
    "    i = 0\n",
    "    while i < len(X):\n",
    "        listin = [X[i]-e, X[i], X[i] + e]\n",
    "        res.append(listin)#\n",
    "        i+=1\n",
    "    return res"
   ]
  },
  {
   "cell_type": "code",
   "execution_count": 11,
   "metadata": {},
   "outputs": [],
   "source": [
    "def hooke_and_jeeves(X, e, num, max_min, s = 0):\n",
    "    i = 0\n",
    "    neighbors = neighbor_dots(X, e) #соседние точки\n",
    "    results_in_dots = []        #результаты для каждой точки\n",
    "    \n",
    "    index = 0\n",
    "    while i < (len(neighbors)):\n",
    "        results_in_dots.append(func(neighbors[i], num, max_min, s))\n",
    "        #print(neighbors[i])\n",
    "        #print(func(neighbors[i], num, max_min))\n",
    "        #print()\n",
    "        i += 1\n",
    "        \n",
    "    if(max_min):\n",
    "        \n",
    "        X[:] = list(neighbors[results_in_dots.index(max(results_in_dots))]) \n",
    "        return max(results_in_dots)\n",
    "    else:\n",
    "        #print(results_in_dots)\n",
    "        \n",
    "        X[:] = list(neighbors[results_in_dots.index(min(results_in_dots))])\n",
    "        return min(results_in_dots)"
   ]
  },
  {
   "cell_type": "code",
   "execution_count": 12,
   "metadata": {},
   "outputs": [],
   "source": [
    "def hooke_and_jeeves_alg(X, num, max_min, s = 0):\n",
    "    Check = tuple(X)\n",
    "    Check = list(X)\n",
    "    e_fin = 0.0001\n",
    "    e = 0.0001\n",
    "    while e >= e_fin:\n",
    "        \n",
    "        Prev = hooke_and_jeeves(X, e, num, max_min, s)\n",
    "        \n",
    "        i = 0\n",
    "        while (Prev != hooke_and_jeeves(X, e, num, max_min)) and i <= 10000:\n",
    "            #print(X)\n",
    "            #print(hooke_and_jeeves(X, e, num, max_min))\n",
    "            #print()\n",
    "            i += 1\n",
    "        \n",
    "        \n",
    "        #print(\"~~~~~~~~~~~~~~\")\n",
    "        e = e / 10\n",
    "    \n",
    "    return func(X, num, max_min)"
   ]
  },
  {
   "cell_type": "code",
   "execution_count": 17,
   "metadata": {},
   "outputs": [],
   "source": [
    "def zond(M, num, max_min, num_of_elements, minimum, maximum, s=0):\n",
    "    Y = []\n",
    "    Values = []\n",
    "    i = 0\n",
    "    while i < num_of_elements:\n",
    "        Values.append(X_arr(M, minimum, maximum))\n",
    "        Y.append(func(Values[i], num, max_min, s))\n",
    "        i += 1\n",
    "    \n",
    "    max_value = Values[Y.index(max(Y))]\n",
    "    min_value = Values[Y.index(min(Y))]\n",
    "    \n",
    "    \n",
    "    if max_min:\n",
    "        return max_value\n",
    "    else:\n",
    "        return min_value"
   ]
  },
  {
   "cell_type": "code",
   "execution_count": null,
   "metadata": {},
   "outputs": [],
   "source": [
    "def fin_func(enter_line):\n",
    "    M = enter_line[0]\n",
    "    num = enter_line[1]\n",
    "    type_of_search = enter_line[2]\n",
    "    \n",
    "    max_min = False\n",
    "    if enter_line[3] == 'max':\n",
    "        max_min = True\n",
    "    minimums = [0]*M\n",
    "    maximums = [0]*M\n",
    "    \n",
    "    if type_of_search == 1:\n",
    "        return zond(M, num, max_min)"
   ]
  },
  {
   "cell_type": "code",
   "execution_count": 1,
   "metadata": {},
   "outputs": [
    {
     "data": {
      "text/plain": [
       "[['2', '1', '1', 'max', '-10', '10', '-10', '10', '0.001', '1000'],\n",
       " ['3', '1', '1', 'max', '-10', '10', '-10', '10', '0.001', '1000']]"
      ]
     },
     "execution_count": 1,
     "metadata": {},
     "output_type": "execute_result"
    }
   ],
   "source": [
    "str = \"\"\n",
    "f = open('text.txt')\n",
    "\n",
    "res = [line.rstrip('\\n').split() for line in f]\n",
    "res"
   ]
  },
  {
   "cell_type": "code",
   "execution_count": 22,
   "metadata": {},
   "outputs": [
    {
     "name": "stdout",
     "output_type": "stream",
     "text": [
      "Введите размерность пространства\n",
      "2\n",
      "Введите номер функции \n",
      "1\n",
      "Нажмите любую клавишу и Enter для поиска макимума или только Enter для минимума \n",
      "3\n",
      "-10\n",
      "10\n",
      "-10\n",
      "10\n",
      "0.9999999990195615\n"
     ]
    }
   ],
   "source": [
    "print(\"Введите размерность пространства\")\n",
    "M = int(input())\n",
    "num = num_input() \n",
    "i = 0\n",
    "print(\"Нажмите любую клавишу и Enter для поиска макимума или только Enter для минимума \")\n",
    "max_min = bool(input()) #не вводить ничего если False\n",
    "minimum = [0] * M\n",
    "maximum = [0] * M\n",
    "for i in range(M):\n",
    "    minimum[i] = int(input())\n",
    "    maximum[i] = int(input())\n",
    "Z = zond(M, num, max_min, 1000, minimum, maximum)\n",
    "ch = list(tuple(Z))\n",
    "#print(ch)\n",
    "#print(func(ch, num, max_min))\n",
    "    \n",
    "res = hooke_and_jeeves_alg(Z, num, max_min)\n",
    "\n",
    "print(res)"
   ]
  },
  {
   "cell_type": "code",
   "execution_count": 37,
   "metadata": {},
   "outputs": [
    {
     "data": {
      "text/plain": [
       "[['2', '1', '1', 'max', '-10', '10', '-10', '10', '0.001', '1000'],\n",
       " ['3', '1', '1', 'max', '-10', '10', '-10', '10', '0.001', '1000']]"
      ]
     },
     "execution_count": 37,
     "metadata": {},
     "output_type": "execute_result"
    }
   ],
   "source": [
    "f = open('text.txt')\n",
    "\n",
    "lines = [line.rstrip('\\n').split() for line in f]\n",
    "lines"
   ]
  },
  {
   "cell_type": "code",
   "execution_count": 22,
   "metadata": {},
   "outputs": [],
   "source": [
    "M = 0                #размерность\n",
    "num = 0              #номер функции\n",
    "type_of_search = 0\n",
    "max_min = False\n",
    "minimum = []\n",
    "maximum = []\n",
    "e = 0\n",
    "num_of_elements = 0\n"
   ]
  },
  {
   "cell_type": "code",
   "execution_count": 39,
   "metadata": {},
   "outputs": [
    {
     "data": {
      "text/plain": [
       "True"
      ]
     },
     "execution_count": 39,
     "metadata": {},
     "output_type": "execute_result"
    }
   ],
   "source": [
    "strin = 'False'\n",
    "c = bool(strin)\n",
    "c"
   ]
  },
  {
   "cell_type": "code",
   "execution_count": 41,
   "metadata": {},
   "outputs": [
    {
     "data": {
      "text/plain": [
       "True"
      ]
     },
     "execution_count": 41,
     "metadata": {},
     "output_type": "execute_result"
    }
   ],
   "source": [
    "#Размерность..Номер Функции..Тип поиска..Максимум/Минимум..Границы разброса..Погрешность..Кол-во элем для зондирования..Доп параметры.."
   ]
  },
  {
   "cell_type": "code",
   "execution_count": null,
   "metadata": {},
   "outputs": [],
   "source": []
  }
 ],
 "metadata": {
  "kernelspec": {
   "display_name": "Python 3",
   "language": "python",
   "name": "python3"
  },
  "language_info": {
   "codemirror_mode": {
    "name": "ipython",
    "version": 3
   },
   "file_extension": ".py",
   "mimetype": "text/x-python",
   "name": "python",
   "nbconvert_exporter": "python",
   "pygments_lexer": "ipython3",
   "version": "3.7.0"
  }
 },
 "nbformat": 4,
 "nbformat_minor": 2
}
