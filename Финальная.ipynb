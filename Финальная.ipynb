{
 "cells": [
  {
   "cell_type": "code",
   "execution_count": 22,
   "metadata": {},
   "outputs": [],
   "source": [
    "def func_1(X):\n",
    "    Y = 1\n",
    "    i = 0\n",
    "    while i < len(X):\n",
    "        Y -= (X[i] - 0.1 * (i + 1))**2\n",
    "        i += 1\n",
    "    return float(Y)"
   ]
  },
  {
   "cell_type": "code",
   "execution_count": 23,
   "metadata": {},
   "outputs": [],
   "source": [
    "import math\n",
    "\n",
    "def func_2(X):\n",
    "    rad = 0\n",
    "    i = 0\n",
    "    while i < len(X):\n",
    "        rad += (X[i])**2\n",
    "        i += 1\n",
    "    Y = math.cos(rad)    \n",
    "    return float(Y)"
   ]
  },
  {
   "cell_type": "code",
   "execution_count": 24,
   "metadata": {},
   "outputs": [],
   "source": [
    "def func_3(X, max_min):\n",
    "    Y_UP = 0\n",
    "    Y_DOWN = 0\n",
    "    i = 0\n",
    "    while i < len(X):\n",
    "        Y_UP += (X[i])**2\n",
    "        Y_DOWN += X[i]\n",
    "        i += 1\n",
    "    Y_DOWN = Y_DOWN**2\n",
    "    \n",
    "    if Y_DOWN == 0 and max_min :\n",
    "        return float(\"-inf\")\n",
    "    if Y_DOWN == 0 and max_min == False :\n",
    "        return float(\"inf\")\n",
    "    \n",
    "    Y = Y_UP / Y_DOWN\n",
    "    return float(Y)"
   ]
  },
  {
   "cell_type": "code",
   "execution_count": 25,
   "metadata": {},
   "outputs": [],
   "source": [
    "def func_4(X, max_min):\n",
    "    \n",
    "    i = 0\n",
    "    if(func_3(X, max_min) == 0) and max_min:\n",
    "        return float(\"-inf\")\n",
    "    if(func_3(X, max_min) == 0) and max_min == False:\n",
    "        return float(\"inf\")\n",
    "    \n",
    "    Y = 1 - 1 / func_3(X, max_min)\n",
    "        \n",
    "    return float(Y)"
   ]
  },
  {
   "cell_type": "code",
   "execution_count": 26,
   "metadata": {},
   "outputs": [],
   "source": [
    "import math\n",
    "def func_5(X, max_min, s):\n",
    "    first_up_x = 0\n",
    "    second_up_x = s\n",
    "    down_x = 1\n",
    "    \n",
    "    for i in range(len(X)):\n",
    "        first_up_x += X[i]\n",
    "        second_up_x *= (math.sin(X[i]))**2\n",
    "        down_x += (X[i])**2\n",
    "        \n",
    "    first_up_x = first_up_x**2\n",
    "    res = (1 - first_up_x + second_up_x)/(down_x)\n",
    "    \n",
    "    if (down_x == 0) and max_min:\n",
    "        return float(\"-inf\")\n",
    "    if (down_x == 0) and not max_min:\n",
    "        return float(\"inf\")    \n",
    "    \n",
    "    return res"
   ]
  },
  {
   "cell_type": "code",
   "execution_count": 27,
   "metadata": {},
   "outputs": [],
   "source": [
    "def func(X, num, max_min, s = 0):\n",
    "    \n",
    "    if num == 1:\n",
    "        return func_1(X)\n",
    "    if num == 2:\n",
    "        return func_2(X)\n",
    "    if num == 3:\n",
    "        return func_3(X, max_min)\n",
    "    if num == 4:\n",
    "        return func_4(X, max_min)\n",
    "    if num == 5:\n",
    "        return func_5(X, max_min, s)"
   ]
  },
  {
   "cell_type": "code",
   "execution_count": 28,
   "metadata": {},
   "outputs": [],
   "source": [
    "import random \n",
    "def X_arr(M, minimum, maximum):\n",
    "    X = []\n",
    "    i = 0 \n",
    "    while i < M:\n",
    "        X.append(random.uniform(minimum[i], maximum[i]))\n",
    "        i += 1\n",
    "    return X"
   ]
  },
  {
   "cell_type": "code",
   "execution_count": 29,
   "metadata": {},
   "outputs": [],
   "source": [
    "def num_input():\n",
    "    print(\"Введите номер функции \")\n",
    "    num = int(input())\n",
    "    while (num <= 0) or (num > 5):\n",
    "        print(\"Неверный номер \")\n",
    "        num = int(input())\n",
    "    return num"
   ]
  },
  {
   "cell_type": "code",
   "execution_count": 30,
   "metadata": {},
   "outputs": [],
   "source": [
    "from itertools import product\n",
    "\n",
    "def comb(n, k):\n",
    "    \"\"\"Генерация сочетаний из `n` по `k` без повторений.\"\"\"\n",
    "\n",
    "    d = list(range(0, k))\n",
    "    yield d\n",
    "\n",
    "    while True:\n",
    "        i = k - 1\n",
    "        while i >= 0 and d[i] + k - i + 1 > n:\n",
    "            i -= 1\n",
    "        if i < 0:\n",
    "            return\n",
    "\n",
    "        d[i] += 1\n",
    "        for j in range(i + 1, k):\n",
    "            d[j] = d[j - 1] + 1\n",
    "\n",
    "        yield d\n",
    "\n",
    "def comb_sets(sets, m):\n",
    "    \"\"\"Генерация сочетаний из элементов множеств `sets` по `m` элементов.\"\"\"\n",
    "\n",
    "    for ci in comb(len(sets), m):\n",
    "        for cj in product(*(sets[i] for i in ci)):\n",
    "            yield cj\n",
    "            \n",
    "def neighbor_dots(X, e):\n",
    "    Range_of_dots =  range_of_dots(X, e)\n",
    "    Res = []    \n",
    "    for c in comb_sets(Range_of_dots, len(Range_of_dots)):\n",
    "        Res.append(list(c))\n",
    "    \n",
    "    return Res\n"
   ]
  },
  {
   "cell_type": "code",
   "execution_count": 31,
   "metadata": {},
   "outputs": [],
   "source": [
    "import numpy as np\n",
    "\n",
    "def range_of_dots(X, e):\n",
    "    res = []\n",
    "    i = 0\n",
    "    while i < len(X):\n",
    "        listin = [X[i]-e, X[i], X[i] + e]\n",
    "        res.append(listin)#\n",
    "        i+=1\n",
    "    return res"
   ]
  },
  {
   "cell_type": "code",
   "execution_count": 32,
   "metadata": {},
   "outputs": [],
   "source": [
    "def hooke_and_jeeves(X, e, num, max_min, s = 0):\n",
    "    i = 0\n",
    "    neighbors = neighbor_dots(X, e) #соседние точки\n",
    "    results_in_dots = []        #результаты для каждой точки\n",
    "    \n",
    "    index = 0\n",
    "    while i < (len(neighbors)):\n",
    "        results_in_dots.append(func(neighbors[i], num, max_min, s))\n",
    "        #print(neighbors[i])\n",
    "        #print(func(neighbors[i], num, max_min))\n",
    "        #print()\n",
    "        i += 1\n",
    "        \n",
    "    if(max_min):        \n",
    "        X[:] = list(neighbors[results_in_dots.index(max(results_in_dots))]) \n",
    "        \n",
    "    else:\n",
    "        #print(results_in_dots)        \n",
    "        X[:] = list(neighbors[results_in_dots.index(min(results_in_dots))])\n",
    "        \n",
    "    return X"
   ]
  },
  {
   "cell_type": "code",
   "execution_count": 33,
   "metadata": {},
   "outputs": [],
   "source": [
    "def hooke_and_jeeves_alg(X, num, max_min, e = 0.0001, s = 0):\n",
    "    Check = tuple(X)\n",
    "    Check = list(X)\n",
    "    e_fin =  e #0.001\n",
    "    e = e * 100\n",
    "    while e >= e_fin:\n",
    "        \n",
    "        Prev = hooke_and_jeeves(X, e, num, max_min, s)\n",
    "        \n",
    "        i = 0\n",
    "        while (Prev != hooke_and_jeeves(X, e, num, max_min)) and i <= 10000:\n",
    "            #print(X)\n",
    "            #print(hooke_and_jeeves(X, e, num, max_min))\n",
    "            #print()\n",
    "            i += 1\n",
    "        \n",
    "        \n",
    "        #print(\"~~~~~~~~~~~~~~\")\n",
    "        e = e / 10\n",
    "    \n",
    "    return X"
   ]
  },
  {
   "cell_type": "code",
   "execution_count": 34,
   "metadata": {},
   "outputs": [],
   "source": [
    "def zond(M, num, max_min, num_of_elements, minimum, maximum, s=0):\n",
    "    Y = []\n",
    "    Values = []\n",
    "    i = 0\n",
    "    while i < num_of_elements:\n",
    "        Values.append(X_arr(M, minimum, maximum))\n",
    "        Y.append(func(Values[i], num, max_min, s))\n",
    "        i += 1\n",
    "    \n",
    "    max_value = Values[Y.index(max(Y))]\n",
    "    min_value = Values[Y.index(min(Y))]\n",
    "    \n",
    "    #Возвращает точку\n",
    "    if max_min:\n",
    "        return max_value\n",
    "    else:\n",
    "        return min_value"
   ]
  },
  {
   "cell_type": "code",
   "execution_count": 35,
   "metadata": {},
   "outputs": [],
   "source": [
    "#Размерность..Номер Функции..Тип поиска..Максимум/Минимум..Границы разброса..Погрешность..Кол-во элем для зондирования..Доп параметры..\n",
    "def res_func(enter):\n",
    "    M           = int(enter[0]) #Размерность\n",
    "    num         = int(enter[1]) #Номер функции\n",
    "    search_type = int(enter[2]) #1 зондирование.. 2 Хука Дживс.. 3 Комбинированный\n",
    "    max_min     = False         #True если поиск максимума и False если минимума\n",
    "    \n",
    "    if(enter[3] == 'max'):\n",
    "        max_min = True\n",
    "        \n",
    "    minimum = []                #Нижние границы разброса для каждой оси\n",
    "    maximum = []                #Верхние границы разброса для каждой оси\n",
    "    e = 0                       #Погрешность\n",
    "    num_of_elements = 0         #Количество элементов для зондирования\n",
    "    \n",
    "    \n",
    "    for i in range(M):\n",
    "        minimum.append(int(enter[4 + 2*i]))\n",
    "        maximum.append(int(enter[5 + 2*i]))\n",
    "        \n",
    "    #Вводятся даже когда нет необходимости\n",
    "    e = float(enter[4+2*M])   \n",
    "    num_of_elements = int(enter[5+2*M])\n",
    "    \n",
    "    \n",
    "    s = 0                       #Дополнительный параметр для 5 функции\n",
    "    if(num == 5):\n",
    "        s = int(len(enter) - 1)\n",
    "    \n",
    "    if(search_type == 1):\n",
    "        return zond(M, num, max_min, num_of_elements, minimum, maximum, s)\n",
    "    if(search_type == 2):\n",
    "        return hooke_and_jeeves_alg(X, num, max_min, e, s)\n",
    "    if(search_type == 3):\n",
    "        X = zond(M, num, max_min, num_of_elements, minimum, maximum, s)\n",
    "        return hooke_and_jeeves_alg(X, num, max_min, e, s)"
   ]
  },
  {
   "cell_type": "code",
   "execution_count": 36,
   "metadata": {},
   "outputs": [],
   "source": [
    "#Размерность..Номер Функции..Тип поиска..Максимум/Минимум..Границы разброса..Погрешность..Кол-во элем для зондирования..Доп параметры.."
   ]
  },
  {
   "cell_type": "code",
   "execution_count": 107,
   "metadata": {},
   "outputs": [
    {
     "name": "stdout",
     "output_type": "stream",
     "text": [
      "0.998643618408367 max 1\n",
      "0.9999999999357426 max 2\n",
      "9409565775.081944 max 3\n",
      "0.9999999999415313 max 4\n",
      "2.203902050938368 max 5\n",
      "-204.23184508518904 min 1\n",
      "-0.9999999993819993 min 2\n",
      "0.5000000002600921 min 3\n",
      "-0.9999999985626422 min 4\n",
      "-1.9838535619671265 min 5\n"
     ]
    }
   ],
   "source": [
    "f = open('text.txt')\n",
    "result = open('result.txt', 'w')\n",
    "res = [line.rstrip('\\n').split() for line in f]\n",
    "c = False\n",
    "b = []\n",
    "s = 0\n",
    "for i in range(len(res)):\n",
    "    if(res[i][3] == 'max'):\n",
    "        c = True\n",
    "    else:\n",
    "        c = False\n",
    "    if(len(res[i]) == 11):\n",
    "        s = float(res[i][len(res[i]) - 1])\n",
    "    else:\n",
    "        s = 0\n",
    "    result.write(str(func(res_func(res[i]), int(res[i][1]), c, s)) + ' ' +  res[i][3] + ' ' + res[i][1] + '\\n')\n",
    "    \n",
    "    print(func(res_func(res[i]), int(res[i][1]), c, s), res[i][3], res[i][1])\n",
    "    b.append([res_func(res[i]), int(res[i][1]), c, s])\n"
   ]
  },
  {
   "cell_type": "code",
   "execution_count": 82,
   "metadata": {},
   "outputs": [
    {
     "data": {
      "text/plain": [
       "[[[0.08822874573514738, 0.13473361842021347], 1, True, 0],\n",
       " [[9.866183058905637, 7.3112867548843425], 2, True, 0],\n",
       " [[-8.467253508019732, 8.467148135575592], 3, True, 0],\n",
       " [[8.656761258874376, -8.65659646335941], 4, True, 0],\n",
       " [[1.2275366061598731, -1.2404465845767625], 5, True, 10.0],\n",
       " [[-9.97399908726371, -9.990372587254402], 1, False, 0],\n",
       " [[0.10074721398120268, 8.121778126174746], 2, False, 0],\n",
       " [[4.181035511337228, 4.180929984837205], 3, False, 0],\n",
       " [[-7.5843375881057895, -7.584204719616537], 4, False, 0],\n",
       " [[9.72835994415107, 9.678827187861366], 5, False, 10.0]]"
      ]
     },
     "execution_count": 82,
     "metadata": {},
     "output_type": "execute_result"
    }
   ],
   "source": [
    "b"
   ]
  },
  {
   "cell_type": "code",
   "execution_count": null,
   "metadata": {},
   "outputs": [],
   "source": [
    "for i in range(len(b)):\n",
    "    X = b[i][0]\n",
    "    num"
   ]
  },
  {
   "cell_type": "code",
   "execution_count": 112,
   "metadata": {},
   "outputs": [
    {
     "name": "stdout",
     "output_type": "stream",
     "text": [
      "Введите размерность пространства\n",
      "2\n",
      "Введите номер функции \n",
      "1\n",
      "Нажмите любую клавишу и Enter для поиска макимума или только Enter для минимума \n",
      "\n",
      "-10\n",
      "10\n",
      "0\n",
      "10\n",
      "[-9.780879571435353, 9.77103650235183]\n",
      "-29164.644804654326\n"
     ]
    }
   ],
   "source": [
    "print(\"Введите размерность пространства\")\n",
    "M = int(input())\n",
    "num = num_input() \n",
    "i = 0\n",
    "print(\"Нажмите любую клавишу и Enter для поиска макимума или только Enter для минимума \")\n",
    "max_min = bool(input()) #не вводить ничего если False\n",
    "minimum = [0] * M\n",
    "maximum = [0] * M\n",
    "for i in range(M):\n",
    "    minimum[i] = int(input())\n",
    "    maximum[i] = int(input())\n",
    "Z = zond(M, num, max_min, 1000, minimum, maximum)\n",
    "ch = list(tuple(Z))\n",
    "#print(ch)\n",
    "#print(func(ch, num, max_min))\n",
    "print(Z)    \n",
    "res = hooke_and_jeeves_alg(Z, num, max_min)\n",
    "\n",
    "print(res)"
   ]
  },
  {
   "cell_type": "code",
   "execution_count": 37,
   "metadata": {},
   "outputs": [
    {
     "data": {
      "text/plain": [
       "[['2', '1', '1', 'max', '-10', '10', '-10', '10', '0.001', '1000'],\n",
       " ['3', '1', '1', 'max', '-10', '10', '-10', '10', '0.001', '1000']]"
      ]
     },
     "execution_count": 37,
     "metadata": {},
     "output_type": "execute_result"
    }
   ],
   "source": [
    "f = open('text.txt')\n",
    "\n",
    "lines = [line.rstrip('\\n').split() for line in f]\n",
    "lines"
   ]
  },
  {
   "cell_type": "code",
   "execution_count": null,
   "metadata": {},
   "outputs": [],
   "source": [
    "c = ['2', '1', '1', 'max', '-10', '10', '-10', '10', '0.001', '1000']\n"
   ]
  },
  {
   "cell_type": "code",
   "execution_count": 22,
   "metadata": {},
   "outputs": [],
   "source": [
    "M = 0                #размерность\n",
    "num = 0              #номер функции\n",
    "type_of_search = 0\n",
    "max_min = False\n",
    "minimum = []\n",
    "maximum = []\n",
    "e = 0\n",
    "num_of_elements = 0\n"
   ]
  },
  {
   "cell_type": "code",
   "execution_count": 1,
   "metadata": {},
   "outputs": [
    {
     "ename": "TypeError",
     "evalue": "int() argument must be a string, a bytes-like object or a number, not 'list'",
     "output_type": "error",
     "traceback": [
      "\u001b[1;31m---------------------------------------------------------------------------\u001b[0m",
      "\u001b[1;31mTypeError\u001b[0m                                 Traceback (most recent call last)",
      "\u001b[1;32m<ipython-input-1-174ec2761537>\u001b[0m in \u001b[0;36m<module>\u001b[1;34m()\u001b[0m\n\u001b[0;32m      1\u001b[0m \u001b[0mb\u001b[0m \u001b[1;33m=\u001b[0m \u001b[1;33m[\u001b[0m\u001b[1;34m'2'\u001b[0m\u001b[1;33m,\u001b[0m \u001b[1;34m'1'\u001b[0m\u001b[1;33m,\u001b[0m \u001b[1;34m'1'\u001b[0m\u001b[1;33m,\u001b[0m \u001b[1;34m'-10'\u001b[0m\u001b[1;33m,\u001b[0m \u001b[1;34m'10'\u001b[0m\u001b[1;33m,\u001b[0m \u001b[1;34m'-10'\u001b[0m\u001b[1;33m,\u001b[0m \u001b[1;34m'10'\u001b[0m\u001b[1;33m,\u001b[0m \u001b[1;34m'0.001'\u001b[0m\u001b[1;33m,\u001b[0m \u001b[1;34m'1000'\u001b[0m\u001b[1;33m]\u001b[0m\u001b[1;33m\u001b[0m\u001b[0m\n\u001b[1;32m----> 2\u001b[1;33m \u001b[0mM\u001b[0m \u001b[1;33m=\u001b[0m \u001b[0mint\u001b[0m\u001b[1;33m(\u001b[0m\u001b[0mb\u001b[0m\u001b[1;33m)\u001b[0m\u001b[1;33m\u001b[0m\u001b[0m\n\u001b[0m\u001b[0;32m      3\u001b[0m \u001b[0mminimum\u001b[0m \u001b[1;33m=\u001b[0m \u001b[1;33m[\u001b[0m\u001b[1;33m]\u001b[0m\u001b[1;33m\u001b[0m\u001b[0m\n\u001b[0;32m      4\u001b[0m \u001b[0mmaximum\u001b[0m \u001b[1;33m=\u001b[0m \u001b[1;33m[\u001b[0m\u001b[1;33m]\u001b[0m\u001b[1;33m\u001b[0m\u001b[0m\n",
      "\u001b[1;31mTypeError\u001b[0m: int() argument must be a string, a bytes-like object or a number, not 'list'"
     ]
    }
   ],
   "source": [
    "b = ['2', '1', '1', '-10', '10', '-10', '10', '0.001', '1000']\n",
    "M = int(b)\n",
    "minimum = []\n",
    "maximum = []\n"
   ]
  },
  {
   "cell_type": "code",
   "execution_count": 42,
   "metadata": {},
   "outputs": [
    {
     "data": {
      "text/plain": [
       "'2'"
      ]
     },
     "execution_count": 42,
     "metadata": {},
     "output_type": "execute_result"
    }
   ],
   "source": [
    "max(b)"
   ]
  },
  {
   "cell_type": "code",
   "execution_count": 132,
   "metadata": {},
   "outputs": [
    {
     "name": "stdout",
     "output_type": "stream",
     "text": [
      "0.9880781307817287\n",
      "0.9999803310724781\n",
      "0.9999995314880366\n",
      "1.0\n",
      "1.0\n",
      "1.0\n",
      "1.0\n",
      "1.0\n",
      "1.0\n",
      "1.0\n"
     ]
    }
   ],
   "source": [
    "v = [0.5, 0.5]\n",
    "for i in range(10):\n",
    "    print(func_2(hooke_and_jeeves_alg(v, 2, True, 0.001, 0)))"
   ]
  },
  {
   "cell_type": "code",
   "execution_count": 134,
   "metadata": {},
   "outputs": [
    {
     "data": {
      "text/plain": [
       "[-8.81239525796218e-16, 0]"
      ]
     },
     "execution_count": 134,
     "metadata": {},
     "output_type": "execute_result"
    }
   ],
   "source": [
    "v = [1, 0]\n",
    "Prev = hooke_and_jeeves(v, 0.001, 2, True)\n",
    "for i in range(1000):\n",
    "    Prev = hooke_and_jeeves(v, 0.001, 2, True)\n",
    "Prev"
   ]
  },
  {
   "cell_type": "code",
   "execution_count": 95,
   "metadata": {},
   "outputs": [
    {
     "data": {
      "text/plain": [
       "2"
      ]
     },
     "execution_count": 95,
     "metadata": {},
     "output_type": "execute_result"
    }
   ],
   "source": [
    "bbb = open('result.txt', 'w')\n",
    "bbb.write('5'+ '\\n')    "
   ]
  },
  {
   "cell_type": "code",
   "execution_count": 102,
   "metadata": {},
   "outputs": [
    {
     "data": {
      "text/plain": [
       "'tt\\ngg'"
      ]
     },
     "execution_count": 102,
     "metadata": {},
     "output_type": "execute_result"
    }
   ],
   "source": []
  },
  {
   "cell_type": "code",
   "execution_count": null,
   "metadata": {},
   "outputs": [],
   "source": []
  }
 ],
 "metadata": {
  "kernelspec": {
   "display_name": "Python 3",
   "language": "python",
   "name": "python3"
  },
  "language_info": {
   "codemirror_mode": {
    "name": "ipython",
    "version": 3
   },
   "file_extension": ".py",
   "mimetype": "text/x-python",
   "name": "python",
   "nbconvert_exporter": "python",
   "pygments_lexer": "ipython3",
   "version": "3.7.0"
  }
 },
 "nbformat": 4,
 "nbformat_minor": 2
}
